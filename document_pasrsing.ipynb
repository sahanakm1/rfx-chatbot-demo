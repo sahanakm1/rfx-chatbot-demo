{
 "cells": [
  {
   "cell_type": "code",
   "execution_count": 1,
   "id": "df32093f",
   "metadata": {},
   "outputs": [],
   "source": [
    "import json\n",
    "import logging\n",
    "from pathlib import Path"
   ]
  },
  {
   "cell_type": "code",
   "execution_count": 2,
   "id": "fb4c685c",
   "metadata": {},
   "outputs": [],
   "source": [
    "import yaml"
   ]
  },
  {
   "cell_type": "code",
   "execution_count": 3,
   "id": "3eb4a812",
   "metadata": {},
   "outputs": [
    {
     "name": "stderr",
     "output_type": "stream",
     "text": [
      "c:\\Users\\prerit.d.jain\\OneDrive - Accenture\\JTI\\python_codes\\rfx-chatbot-demo\\.venv\\Lib\\site-packages\\tqdm\\auto.py:21: TqdmWarning: IProgress not found. Please update jupyter and ipywidgets. See https://ipywidgets.readthedocs.io/en/stable/user_install.html\n",
      "  from .autonotebook import tqdm as notebook_tqdm\n"
     ]
    }
   ],
   "source": [
    "from docling.backend.pypdfium2_backend import PyPdfiumDocumentBackend\n",
    "from docling.datamodel.base_models import InputFormat\n",
    "from docling.document_converter import (\n",
    "    DocumentConverter,\n",
    "    PdfFormatOption,\n",
    "    WordFormatOption,\n",
    ")\n",
    "from docling.pipeline.simple_pipeline import SimplePipeline\n",
    "from docling.pipeline.standard_pdf_pipeline import StandardPdfPipeline"
   ]
  },
  {
   "cell_type": "code",
   "execution_count": 4,
   "id": "a7879eab",
   "metadata": {},
   "outputs": [],
   "source": [
    "path=r\"C:\\Users\\prerit.d.jain\\OneDrive - Accenture\\docling\\docling\\tests\\data\""
   ]
  },
  {
   "cell_type": "code",
   "execution_count": 5,
   "id": "9a8754d4",
   "metadata": {},
   "outputs": [],
   "source": [
    "input_paths = [\n",
    "    Path(path+\"/html/wiki_duck.html\"),\n",
    "    Path(path+\"/docx/word_sample.docx\"),\n",
    "    Path(path+\"/docx/lorem_ipsum.docx\"),\n",
    "    Path(path+\"/pptx/powerpoint_sample.pptx\"),\n",
    "    Path(path+\"/2305.03393v1-pg9-img.png\"),\n",
    "    Path(path+\"/pdf/2206.01062.pdf\"),\n",
    "    Path(path+\"/asciidoc/test_01.asciidoc\"),\n",
    "    Path(path+\"/csv/csv-too-many-columns.csv\"),\n",
    "]"
   ]
  },
  {
   "cell_type": "code",
   "execution_count": 6,
   "id": "99c53572",
   "metadata": {},
   "outputs": [],
   "source": [
    "input_paths = [\n",
    "    Path(r\"Input_Files\\JTI RFP Digital Landscape .pptx\"),\n",
    "    Path(r\"Input_Files\\RFP Classic template_from GIP Sharepoint.pdf\"),\n",
    "    Path(r\"Input_Files\\RFP_Classic_template_upd.docx\"),\n",
    "    Path(r\"Input_Files\\SOW- RFP Digital Landscape-v2.2 1.docx\")\n",
    "]"
   ]
  },
  {
   "cell_type": "code",
   "execution_count": 7,
   "id": "1df09bb1",
   "metadata": {},
   "outputs": [],
   "source": [
    "doc_converter = (\n",
    "    DocumentConverter(  # all of the below is optional, has internal defaults.\n",
    "        allowed_formats=[\n",
    "            InputFormat.PDF,\n",
    "            InputFormat.IMAGE,\n",
    "            InputFormat.DOCX,\n",
    "            InputFormat.HTML,\n",
    "            InputFormat.PPTX,\n",
    "            InputFormat.ASCIIDOC,\n",
    "            InputFormat.CSV,\n",
    "            InputFormat.MD,\n",
    "        ],  # whitelist formats, non-matching files are ignored.\n",
    "        format_options={\n",
    "            InputFormat.PDF: PdfFormatOption(\n",
    "                pipeline_cls=StandardPdfPipeline, backend=PyPdfiumDocumentBackend\n",
    "            ),\n",
    "            InputFormat.DOCX: WordFormatOption(\n",
    "                pipeline_cls=SimplePipeline  # , backend=MsWordDocumentBackend\n",
    "            ),\n",
    "        },\n",
    "    )\n",
    ")\n",
    "\n",
    "conv_results = doc_converter.convert_all(input_paths)"
   ]
  },
  {
   "cell_type": "code",
   "execution_count": 63,
   "id": "dfbefc20",
   "metadata": {},
   "outputs": [
    {
     "name": "stdout",
     "output_type": "stream",
     "text": [
      "Document JTI RFP Digital Landscape .pptx converted.\n",
      "Saved markdown output to: scratch\n",
      "Document RFP Classic template_from GIP Sharepoint.pdf converted.\n",
      "Saved markdown output to: scratch\n",
      "Document RFP_Classic_template_upd.docx converted.\n",
      "Saved markdown output to: scratch\n",
      "Document SOW- RFP Digital Landscape-v2.2 1.docx converted.\n",
      "Saved markdown output to: scratch\n"
     ]
    }
   ],
   "source": [
    "for res in conv_results:\n",
    "    out_path = Path(\"scratch\")\n",
    "    print(\n",
    "        f\"Document {res.input.file.name} converted.\"\n",
    "        f\"\\nSaved markdown output to: {out_path!s}\"\n",
    "    )\n",
    "    \n",
    "    # Export Docling document format to markdowndoc:\n",
    "\n",
    "    try:\n",
    "        with (out_path / f\"{res.input.file.stem}.md\").open(\"w\") as fp:\n",
    "            fp.write(res.document.export_to_markdown())\n",
    "    except:\n",
    "        with (out_path / f\"{res.input.file.stem}.md\").open(\"w\",encoding = \"utf-8\") as fp:\n",
    "            fp.write(res.document.export_to_markdown())\n"
   ]
  },
  {
   "cell_type": "code",
   "execution_count": 45,
   "id": "879f8bba",
   "metadata": {},
   "outputs": [
    {
     "data": {
      "text/plain": [
       "'**Request for Proposal (RfP) brief – digital landscape overhaul**\\n\\n**Table of content**\\n\\n- **Background**\\n- **Objectives of our corporate website**\\n- **General requirements for our digital landscape**\\n- **Scope and deliverables of the digital landscape overhaul**\\n    - **JTI.com (Q3-4 2023)**\\n    - **Careers.jti.com (Q1 2024)**\\n    - **JT-Science.com (Q1-2 2024)**\\n    - **Website hosting (Q3-Q4 2023)**\\n    - **Social media community management support (Q3 2023)**\\n- **Technical requirements**\\n- **References**\\n\\n1.Background\\n\\nThe eventual scope of this RfP is overhauling JTI’s digital landscape, which is comprised of our current corporate website at the core, complemented by microsites such as the career platform, science communication website and other smaller websites (see 4.d.). Over the years, add-ons and ad hoc updates have been pushed to serve various agendas. This resulted in creating a disjointed digital ecosystem, which is no longer in line with our corporate messaging.\\n\\nBoth content and branding on our website and the greater digital landscape must be aligned with the new corporate purpose (due early May) and the new corporate brand (due this summer, and in the meantime, [current branding guidelines available here](https:\\\\www.jtibrand.com\\\\login) ). We hope to receive a proposal that articulates the vision of an ideal digital landscape – offering engaging content with appealing visuals for our various audiences.\\n\\nIn the last couple of years, prework for jti.com revamp has been conducted. Your proposal should consider the insights gained from the prework: Audience missions, JTI Corporate Digital Ecosystem Discovery Summary and Next Steps, JTI Metrio &amp; Sustainability Content Issues Summary. Please see attached in the folder “Annex Global Comms.zip.”\\n\\nOur priority is the revamp of jti.com which was launched roughly 6 years ago.\\xa0Corporate Communications is the owner of the corporate website and responsible for our external communications channels; however, we have other stakeholders and content owners such as colleagues from People &amp; Culture (HR), Science communications, Sustainability, as well as our parent company JT. Each team is an integral part of our digital landscape and must work closely together either as an owner of a site or stakeholder.\\n\\n2. Objectives of our corporate website\\n\\nIt should serve as JTI’s shop window to the world as well as a bridge to our social media presence and other satellite websites. It is one of our main communications channels where we can tell our stories in depth without constraints.\\n\\nNote:\\n\\n- New branding to be launched in Q3\\n- Limited product/brand information disclosure due to legal age requirements\\n\\n**3.  General requirements for our digital landscape:**\\n\\n- Consistent look and feel, UX\\n- Optimal mobile UI and UX\\n- Fast loading speed\\xa0worldwide\\n- SEO optimization\\n- Accessibility\\n- W3C compliant\\n- Ensure all the latest international laws are observed and that the websites are compliant (i.e. GDPR, Cookie Policy - One Trust)\\n- Visually impactful content\\xa0- images and videos\\n- Improved and clear user journeys\\n- Sharable smaller pieces of content from our websites to social media (videos, contact us form subcategories)\\n- Easy updating of company information such as revenue, employee numbers, etc. biannually\\n- A turnkey solution\\n- The best-in-class CMS and up-to-date system\\n- Visual content is enhanced (as per the current digital trends)\\n- User-friendly CMS to execute small to medium content and design updates autonomously (including videos upload)\\n- CMS user guidelines\\xa0for our specific instance\\n- All our website design to follow our new branding (launch in Q3 2023)\\n- Draft environnement + live environnement minimum\\n- Organized file storage and clear naming conventions\\n- Optimized video asset hosting\\n- Content, design, and CMS guidelines to be created at the end of the project\\n- Geolocation: website language to be automatically selected based on availability, browser setting and/or geolocation. English by default.\\n- Web analytics plug-in and dashboard for timely and swift reporting\\n\\n**4. Scope and deliverables for the digital landscape overhaul:**\\n\\nThis section details the requirements of each individual website (a, b, c) managed by various internal stakeholders.\\n\\n- **JTI.com website revamp project management 2023 Q3-Q4**\\n- Creative content strategy and design for the revamp. After the revamp, we will mostly produce and maintain content in-house\\n- A dedicated (support) team – which would be seen as an extension of ours – which can deliver timely, quality, and consistent service with seamless communications. Proactivity will be mandatory (spot issue, come up with a solution and implement swiftly, share best practices and how to implement onto the website) and provide ad hoc support to market colleagues with their market page updates (37 complex pages and 41 simple pages)\\n- Integrated into the website are FMS (Feedback Management System) and a geolocation feature\\n\\n- **Jobs.jti.com (Careers website) 2024 Q1**\\n\\nObjectives\\n\\n- Provide an outstanding candidate/employee onboarding experience to attract and retain talents\\n- Showcase relevant content\\n    - JTI culture and what it’s like to work for JTI\\n    - address questions that candidates may have\\n    - in line with our corporate messaging\\n    - the opportunities and “what’s in it” for the candidates\\n    - pique curiosity\\n- Offer best-in-class UX\\n    - easy access and usage\\n    - spontaneous applications\\n    - in line with the new look &amp; feel of jti.com,\\n- and lead visitors to learn more on jti.com\\n- Guide visitors to jti.com to learn more with a smooth transition between the two sites\\n- Serve as a bridge to our social media accounts with smaller sharable content\\n\\n**Scope of work**\\n\\n- Content strategy and copywriting\\n- Design and UX\\n- Build and launch\\n\\n**Dependencies**\\n\\n- Functional specifications and ATS (SuccessFactors) integration\\n- Jti.com revamp (to ensure consistency but avoid redundancies)\\n- New corporate branding\\n\\n**What to consider**\\n\\n- Elements we have already worked on:\\n    - UX experience findings\\n    - Best practices\\n    - Previous work/proposal on wireframes\\n- System limitations\\n    - ATS SuccessFactors limitations\\n\\n**Objectives of the website**\\n\\n- To inform, educate and collaborate with all those interested in learning about the science behind Reduced-Risk Products (RRP) - from consumers to scientists and the regulatory community\\n- To achieve this, JT Science needs to meet the following requirements:\\n    - **Non-commercial** : an information platform featuring the science on RRP\\n    - **Factual** : introduce the science in a factual manner without our own views or opinions.\\n    - **Publication basis** : share data or results published in external conferences or journals to keep factuality and objectivity. Currently, in-house, or unpublished data are out of scope.\\n\\n**Website revamp**\\n\\n**Requirements**\\n\\n- User journey and sitemap that optimize the existing content\\n- Better linkage between jti.com and our social media accounts\\n- Improved UI for our publication library ‘Resource Hub’\\n- The consideration of a direct mailing/newsletter approach to a registered community\\n- New page creation on the scientific studies and our products such as Ploom X\\n- illustrations and animations to make the science understandable by public\\n- Rebranding the website to be aligned to the new purpose, corporate branding and jti.com\\n- Benchmarking of competitors’ scientific websites\\n- Creation of templates for oral/poster scientific presentations and web\\n- Project management for the revamp and smaller projects\\n- Update the Resource Hub page in a timely manner\\n- Update the event section yearly.\\n- Exclude spam emails from the contact us form inquiries\\n- **Website hosting:**\\n- [https://www.jti.com/](https:\\\\www.jti.com)\\n- [https://jobs.jti.com/](https:\\\\jobs.jti.com)\\n- [https://www.jt-science.com/](https:\\\\www.jt-science.com)\\n- Metrio microsite (scheduled to be launched on June 9)\\n- [Voluntary Ingredients Disclosure](https:\\\\ingredients.jti.com) microsite\\n- [https://humanrights.jti.com/](https:\\\\humanrights.jti.com)\\n- **Social media community management**\\n- Community management of our social media corporate channels (LinkedIn, Twitter, Instagram, Facebook, Glassdoor)\\n\\n**5. Technical requirements**\\n\\n**Infrastructure and platform security**\\n\\n**Highlights of required infrastructure and platform security include:**\\n\\n- Geographically disparate data centers in Amazon Web Services or Azure provide full 24/7 security and redundancy in the case of incidents\\n- Platforms should be distributed over multiple data centers to protect against geographic or regional failures, operating in a live-live setup across multiple centers providing high capacity and resilience\\n- Auto-scaling allows capacity to be added on demand\\n- Host Intrusion Detection System (HIDS) and Intrusion Prevention System (IPS) prevent DoS (denial of service), DDoS (distributed denial of service layer 3/4/7) and block attack patterns\\n- Elastic load balancing, operating at application protocol level\\n- Backup policy for servers and databases (daily backup with 14-day retention as a standard)\\n- Enterprise-grade antivirus and antispam protection\\n- Information Security Management System – ISO/IEC 27001:2013\\n- Quality Management System – ISO/IEC 9001:2015\\n- Service Organization Control (SOC) Reports 1, 2 and 3 through Amazon Web Service or Azure\\n- Accreditation towards ‘Bureau Veritas Scheme for Personal Data Protection against the GDPR’\\n\\n**Application Security**\\n\\n- Web Application Firewall natively integrated with technology stack\\n- 256-bit SSL certificate for data in transit, with TLS 1.2 using 2048-bit public key\\n- HTTPS for all Private Platform\\n- SHA512 salted encryption to protect passwords\\n- Encrypted databases implemented\\n- Full audit log of all activity – application logs and server logs\\n- Multi-factor login process for optimal security and convenience\\n- Strong password policy\\n\\n**6.**\\n\\n**Websites displaying the content in an engaging manner** (text, pics, video, social)\\n\\n[https://exposure.co/](https:\\\\exposure.co)\\n\\n[https://www.exposure.co/publications](https:\\\\www.exposure.co\\\\publications)\\n\\n[https://stories.tennesseetitans.com/the-new-touchdown-king](https:\\\\stories.tennesseetitans.com\\\\the-new-touchdown-king)\\n\\n[https://www.pmi.com/japan-becoming-a-smoke-free-country](https:\\\\www.pmi.com\\\\japan-becoming-a-smoke-free-country)'"
      ]
     },
     "execution_count": 45,
     "metadata": {},
     "output_type": "execute_result"
    }
   ],
   "source": [
    "res.document.export_to_markdown()"
   ]
  }
 ],
 "metadata": {
  "kernelspec": {
   "display_name": ".venv",
   "language": "python",
   "name": "python3"
  },
  "language_info": {
   "codemirror_mode": {
    "name": "ipython",
    "version": 3
   },
   "file_extension": ".py",
   "mimetype": "text/x-python",
   "name": "python",
   "nbconvert_exporter": "python",
   "pygments_lexer": "ipython3",
   "version": "3.12.4"
  }
 },
 "nbformat": 4,
 "nbformat_minor": 5
}
