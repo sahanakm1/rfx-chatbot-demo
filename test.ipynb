{
 "cells": [
  {
   "cell_type": "code",
   "execution_count": 1,
   "id": "5d560f59",
   "metadata": {},
   "outputs": [
    {
     "name": "stderr",
     "output_type": "stream",
     "text": [
      "c:\\Users\\prerit.d.jain\\OneDrive - Accenture\\JTI\\python_codes\\rfx-chatbot-demo\\.venv\\Lib\\site-packages\\tqdm\\auto.py:21: TqdmWarning: IProgress not found. Please update jupyter and ipywidgets. See https://ipywidgets.readthedocs.io/en/stable/user_install.html\n",
      "  from .autonotebook import tqdm as notebook_tqdm\n"
     ]
    }
   ],
   "source": [
    "from data_preprocessing import DocumentConverter\n",
    "from pathlib import Path"
   ]
  },
  {
   "cell_type": "code",
   "execution_count": 2,
   "metadata": {},
   "outputs": [],
   "source": [
    "input_paths = [\n",
    "    Path(r\"Input_Files\\JTI RFP Digital Landscape .pptx\"),\n",
    "    Path(r\"Input_Files\\RFP Classic template_from GIP Sharepoint.pdf\"),\n",
    "    Path(r\"Input_Files\\RFP_Classic_template_upd.docx\"),\n",
    "    Path(r\"Input_Files\\SOW- RFP Digital Landscape-v2.2 1.docx\")\n",
    "]"
   ]
  },
  {
   "cell_type": "code",
   "execution_count": 3,
   "metadata": {},
   "outputs": [
    {
     "name": "stdout",
     "output_type": "stream",
     "text": [
      "Document JTI RFP Digital Landscape .pptx converted.\n",
      "Saved markdown output to: Scratch\n",
      "Document RFP Classic template_from GIP Sharepoint.pdf converted.\n",
      "Saved markdown output to: Scratch\n",
      "Document RFP_Classic_template_upd.docx converted.\n",
      "Saved markdown output to: Scratch\n",
      "Document SOW- RFP Digital Landscape-v2.2 1.docx converted.\n",
      "Saved markdown output to: Scratch\n"
     ]
    }
   ],
   "source": [
    "output_path = DocumentConverter(input_paths).convert_pdf_to_md()"
   ]
  },
  {
   "cell_type": "code",
   "execution_count": 4,
   "metadata": {},
   "outputs": [
    {
     "data": {
      "text/plain": [
       "[WindowsPath('Scratch/JTI RFP Digital Landscape .md'),\n",
       " WindowsPath('Scratch/RFP Classic template_from GIP Sharepoint.md'),\n",
       " WindowsPath('Scratch/RFP_Classic_template_upd.md'),\n",
       " WindowsPath('Scratch/SOW- RFP Digital Landscape-v2.2 1.md')]"
      ]
     },
     "execution_count": 4,
     "metadata": {},
     "output_type": "execute_result"
    }
   ],
   "source": [
    "output_path"
   ]
  },
  {
   "cell_type": "code",
   "execution_count": null,
   "metadata": {},
   "outputs": [],
   "source": []
  },
  {
   "cell_type": "code",
   "execution_count": null,
   "metadata": {},
   "outputs": [],
   "source": []
  },
  {
   "cell_type": "code",
   "execution_count": null,
   "metadata": {},
   "outputs": [],
   "source": []
  },
  {
   "cell_type": "code",
   "execution_count": null,
   "metadata": {},
   "outputs": [],
   "source": []
  },
  {
   "cell_type": "code",
   "execution_count": null,
   "metadata": {},
   "outputs": [],
   "source": []
  },
  {
   "cell_type": "code",
   "execution_count": null,
   "metadata": {},
   "outputs": [],
   "source": []
  },
  {
   "cell_type": "code",
   "execution_count": null,
   "metadata": {},
   "outputs": [],
   "source": []
  },
  {
   "cell_type": "code",
   "execution_count": null,
   "metadata": {},
   "outputs": [],
   "source": []
  },
  {
   "cell_type": "code",
   "execution_count": null,
   "metadata": {},
   "outputs": [],
   "source": []
  },
  {
   "cell_type": "code",
   "execution_count": null,
   "metadata": {},
   "outputs": [],
   "source": []
  },
  {
   "cell_type": "code",
   "execution_count": null,
   "metadata": {},
   "outputs": [],
   "source": []
  },
  {
   "cell_type": "code",
   "execution_count": null,
   "metadata": {},
   "outputs": [],
   "source": []
  },
  {
   "cell_type": "code",
   "execution_count": null,
   "metadata": {},
   "outputs": [],
   "source": []
  },
  {
   "cell_type": "code",
   "execution_count": null,
   "metadata": {},
   "outputs": [],
   "source": []
  },
  {
   "cell_type": "code",
   "execution_count": null,
   "id": "6add510c",
   "metadata": {},
   "outputs": [],
   "source": []
  },
  {
   "cell_type": "markdown",
   "id": "b74d9daa",
   "metadata": {},
   "source": [
    "# Testing Document Parser"
   ]
  },
  {
   "cell_type": "code",
   "execution_count": 69,
   "id": "cc08c418",
   "metadata": {},
   "outputs": [],
   "source": [
    "import logging\n",
    "from pathlib import Path\n",
    "import json"
   ]
  },
  {
   "cell_type": "code",
   "execution_count": 53,
   "id": "827b2932",
   "metadata": {},
   "outputs": [],
   "source": [
    "from docling.backend.pypdfium2_backend import PyPdfiumDocumentBackend\n",
    "from docling.backend.msword_backend import MsWordDocumentBackend\n",
    "from docling.datamodel.base_models import InputFormat\n",
    "from docling.document_converter import (\n",
    "    DocumentConverter,\n",
    "    PdfFormatOption,\n",
    "    WordFormatOption\n",
    ")\n",
    "from docling.pipeline.simple_pipeline import SimplePipeline\n",
    "from docling.pipeline.standard_pdf_pipeline import StandardPdfPipeline\n",
    "from langchain_text_splitters import MarkdownHeaderTextSplitter"
   ]
  },
  {
   "cell_type": "code",
   "execution_count": 54,
   "id": "bb63425b",
   "metadata": {},
   "outputs": [],
   "source": [
    "_log = logging.getLogger(__name__)"
   ]
  },
  {
   "cell_type": "code",
   "execution_count": 66,
   "id": "1412afba",
   "metadata": {},
   "outputs": [],
   "source": [
    "input_paths = [\n",
    "    #Path(r\".\\Input_Files\\RFP Classic template_from GIP Sharepoint.pdf\"),\n",
    "    #Path(r\".\\Input_Files\\RFP_Classic_template_upd.docx\"),\n",
    "    Path(r\".\\Input_Files\\SOW- RFP Digital Landscape-v2.2 1.docx\")\n",
    "    #Path(r\".\\Input_Files\\JTI RFP Digital Landscape .pptx\"),\n",
    "    #Path(r\".\\scratch\\SOW_RFP_Digital_Landscape.md\")\n",
    "    ]"
   ]
  },
  {
   "cell_type": "code",
   "execution_count": 73,
   "id": "1ad3c9d8",
   "metadata": {},
   "outputs": [],
   "source": [
    "doc_converter = (\n",
    "    DocumentConverter(  # all of the below is optional, has internal defaults.\n",
    "        allowed_formats=[\n",
    "            InputFormat.PDF,\n",
    "            InputFormat.DOCX\n",
    "        ],  # whitelist formats, non-matching files are ignored.\n",
    "        format_options={\n",
    "            InputFormat.PDF: PdfFormatOption(\n",
    "                pipeline_cls=StandardPdfPipeline, backend=PyPdfiumDocumentBackend\n",
    "                ),\n",
    "                InputFormat.DOCX: WordFormatOption(\n",
    "                    pipeline_cls=SimplePipeline  #, backend=MsWordDocumentBackend\n",
    "                ),\n",
    "\n",
    "        },\n",
    "    )\n",
    ")"
   ]
  },
  {
   "cell_type": "code",
   "execution_count": null,
   "id": "3117049e",
   "metadata": {},
   "outputs": [
    {
     "name": "stderr",
     "output_type": "stream",
     "text": [
      "INFO:docling.document_converter:Going to convert document batch...\n",
      "INFO:docling.pipeline.base_pipeline:Processing document SOW- RFP Digital Landscape-v2.2 1.docx\n",
      "INFO:docling.document_converter:Finished converting document SOW- RFP Digital Landscape-v2.2 1.docx in 0.25 sec.\n",
      "WARNING:docling_core.types.doc.document:Parameter `strict_text` has been deprecated and will be ignored.\n"
     ]
    },
    {
     "name": "stdout",
     "output_type": "stream",
     "text": [
      "Document SOW- RFP Digital Landscape-v2.2 1.docx converted.\n",
      "Saved markdown output to: scratch\n"
     ]
    }
   ],
   "source": [
    "\n",
    "conv_results = doc_converter.convert_all(input_paths)\n",
    "\n",
    "for res in conv_results:\n",
    "    out_path = Path(\"scratch\")\n",
    "    print(\n",
    "        f\"Document {res.input.file.name} converted.\"\n",
    "        f\"\\nSaved markdown output to: {out_path!s}\"\n",
    "    )\n",
    "    _log.debug(res.document._export_to_indented_azZxtext(max_text_len=16))\n",
    "    # Export Docling document format to markdowndoc:\n",
    "    with (out_path / f\"{res.input.file.stem}.md\").open(\"w\") as fp:\n",
    "        fp.write(res.document.export_to_markdown())\n",
    "\n",
    "    with (out_path / f\"{res.input.file.stem}.json\").open(\"w\") as fp:\n",
    "        fp.write(json.dumps(res.document.export_to_dict()))\n",
    "\n",
    "    with (out_path / f\"{res.input.file.stem}.txt\").open(\"w\") as fp:\n",
    "        fp.write(res.document.export_to_text())\n",
    "    "
   ]
  },
  {
   "cell_type": "code",
   "execution_count": 55,
   "id": "ec26f3a3",
   "metadata": {},
   "outputs": [],
   "source": [
    "def read_markdown_file(file_path):\n",
    "    \"\"\"\n",
    "    Reads a markdown file and returns its content as a string.\n",
    "\n",
    "    Args:\n",
    "        file_path (str): The path to the markdown file.\n",
    "\n",
    "    Returns:\n",
    "        str: The content of the markdown file, or None if an error occurs.\n",
    "    \"\"\"\n",
    "    try:\n",
    "        with open(file_path, 'r') as file:\n",
    "            markdown_content = file.read()\n",
    "        return markdown_content\n",
    "    except FileNotFoundError:\n",
    "        print(f\"Error: File not found at path: {file_path}\")\n",
    "        return None\n",
    "    except Exception as e:\n",
    "         print(f\"An error occurred: {e}\")\n",
    "         return None\n",
    "\n",
    "# Example usage:"
   ]
  },
  {
   "cell_type": "code",
   "execution_count": 58,
   "id": "0d6bde4c",
   "metadata": {},
   "outputs": [],
   "source": [
    "file_path = r'.\\scratch\\SOW- RFP Digital Landscape-v2.2 1.md'\n",
    "content = read_markdown_file(file_path)"
   ]
  },
  {
   "cell_type": "code",
   "execution_count": null,
   "id": "5da3f597",
   "metadata": {},
   "outputs": [
    {
     "data": {
      "text/plain": [
       "[Document(metadata={}, page_content='**Request for Proposal (RfP) brief – digital landscape overhaul**  \\n**Table of content**  \\n- **Background**\\n- **Objectives of our corporate website**\\n- **General requirements for our digital landscape**\\n- **Scope and deliverables of the digital landscape overhaul**\\n- **JTI.com (Q3-4 2023)**\\n- **Careers.jti.com (Q1 2024)**\\n- **JT-Science.com (Q1-2 2024)**\\n- **Website hosting (Q3-Q4 2023)**\\n- **Social media community management support (Q3 2023)**\\n- **Technical requirements**\\n- **References**  \\n1.Background  \\nThe eventual scope of this RfP is overhauling JTI’s digital landscape, which is comprised of our current corporate website at the core, complemented by microsites such as the career platform, science communication website and other smaller websites (see 4.d.). Over the years, add-ons and ad hoc updates have been pushed to serve various agendas. This resulted in creating a disjointed digital ecosystem, which is no longer in line with our corporate messaging.  \\nBoth content and branding on our website and the greater digital landscape must be aligned with the new corporate purpose (due early May) and the new corporate brand (due this summer, and in the meantime, [current branding guidelines available here](https:\\\\www.jtibrand.com\\\\login) ). We hope to receive a proposal that articulates the vision of an ideal digital landscape – offering engaging content with appealing visuals for our various audiences.  \\nIn the last couple of years, prework for jti.com revamp has been conducted. Your proposal should consider the insights gained from the prework: Audience missions, JTI Corporate Digital Ecosystem Discovery Summary and Next Steps, JTI Metrio &amp; Sustainability Content Issues Summary. Please see attached in the folder “Annex Global Comms.zip.”  \\nOur priority is the revamp of jti.com which was launched roughly 6 years ago.Corporate Communications is the owner of the corporate website and responsible for our external communications channels; however, we have other stakeholders and content owners such as colleagues from People &amp; Culture (HR), Science communications, Sustainability, as well as our parent company JT. Each team is an integral part of our digital landscape and must work closely together either as an owner of a site or stakeholder.  \\n2. Objectives of our corporate website  \\nIt should serve as JTI’s shop window to the world as well as a bridge to our social media presence and other satellite websites. It is one of our main communications channels where we can tell our stories in depth without constraints.  \\nNote:  \\n- New branding to be launched in Q3\\n- Limited product/brand information disclosure due to legal age requirements  \\n**3.  General requirements for our digital landscape:**  \\n- Consistent look and feel, UX\\n- Optimal mobile UI and UX\\n- Fast loading speedworldwide\\n- SEO optimization\\n- Accessibility\\n- W3C compliant\\n- Ensure all the latest international laws are observed and that the websites are compliant (i.e. GDPR, Cookie Policy - One Trust)\\n- Visually impactful content- images and videos\\n- Improved and clear user journeys\\n- Sharable smaller pieces of content from our websites to social media (videos, contact us form subcategories)\\n- Easy updating of company information such as revenue, employee numbers, etc. biannually\\n- A turnkey solution\\n- The best-in-class CMS and up-to-date system\\n- Visual content is enhanced (as per the current digital trends)\\n- User-friendly CMS to execute small to medium content and design updates autonomously (including videos upload)\\n- CMS user guidelinesfor our specific instance\\n- All our website design to follow our new branding (launch in Q3 2023)\\n- Draft environnement + live environnement minimum\\n- Organized file storage and clear naming conventions\\n- Optimized video asset hosting\\n- Content, design, and CMS guidelines to be created at the end of the project\\n- Geolocation: website language to be automatically selected based on availability, browser setting and/or geolocation. English by default.\\n- Web analytics plug-in and dashboard for timely and swift reporting  \\n**4. Scope and deliverables for the digital landscape overhaul:**  \\nThis section details the requirements of each individual website (a, b, c) managed by various internal stakeholders.  \\n- **JTI.com website revamp project management 2023 Q3-Q4**\\n- Creative content strategy and design for the revamp. After the revamp, we will mostly produce and maintain content in-house\\n- A dedicated (support) team – which would be seen as an extension of ours – which can deliver timely, quality, and consistent service with seamless communications. Proactivity will be mandatory (spot issue, come up with a solution and implement swiftly, share best practices and how to implement onto the website) and provide ad hoc support to market colleagues with their market page updates (37 complex pages and 41 simple pages)\\n- Integrated into the website are FMS (Feedback Management System) and a geolocation feature  \\n- **Jobs.jti.com (Careers website) 2024 Q1**  \\nObjectives  \\n- Provide an outstanding candidate/employee onboarding experience to attract and retain talents\\n- Showcase relevant content\\n- JTI culture and what it’s like to work for JTI\\n- address questions that candidates may have\\n- in line with our corporate messaging\\n- the opportunities and “what’s in it” for the candidates\\n- pique curiosity\\n- Offer best-in-class UX\\n- easy access and usage\\n- spontaneous applications\\n- in line with the new look &amp; feel of jti.com,\\n- and lead visitors to learn more on jti.com\\n- Guide visitors to jti.com to learn more with a smooth transition between the two sites\\n- Serve as a bridge to our social media accounts with smaller sharable content  \\n**Scope of work**  \\n- Content strategy and copywriting\\n- Design and UX\\n- Build and launch  \\n**Dependencies**  \\n- Functional specifications and ATS (SuccessFactors) integration\\n- Jti.com revamp (to ensure consistency but avoid redundancies)\\n- New corporate branding  \\n**What to consider**  \\n- Elements we have already worked on:\\n- UX experience findings\\n- Best practices\\n- Previous work/proposal on wireframes\\n- System limitations\\n- ATS SuccessFactors limitations  \\n**Objectives of the website**  \\n- To inform, educate and collaborate with all those interested in learning about the science behind Reduced-Risk Products (RRP) - from consumers to scientists and the regulatory community\\n- To achieve this, JT Science needs to meet the following requirements:\\n- **Non-commercial** : an information platform featuring the science on RRP\\n- **Factual** : introduce the science in a factual manner without our own views or opinions.\\n- **Publication basis** : share data or results published in external conferences or journals to keep factuality and objectivity. Currently, in-house, or unpublished data are out of scope.  \\n**Website revamp**  \\n**Requirements**  \\n- User journey and sitemap that optimize the existing content\\n- Better linkage between jti.com and our social media accounts\\n- Improved UI for our publication library ‘Resource Hub’\\n- The consideration of a direct mailing/newsletter approach to a registered community\\n- New page creation on the scientific studies and our products such as Ploom X\\n- illustrations and animations to make the science understandable by public\\n- Rebranding the website to be aligned to the new purpose, corporate branding and jti.com\\n- Benchmarking of competitors’ scientific websites\\n- Creation of templates for oral/poster scientific presentations and web\\n- Project management for the revamp and smaller projects\\n- Update the Resource Hub page in a timely manner\\n- Update the event section yearly.\\n- Exclude spam emails from the contact us form inquiries\\n- **Website hosting:**\\n- [https://www.jti.com/](https:\\\\www.jti.com)\\n- [https://jobs.jti.com/](https:\\\\jobs.jti.com)\\n- [https://www.jt-science.com/](https:\\\\www.jt-science.com)\\n- Metrio microsite (scheduled to be launched on June 9)\\n- [Voluntary Ingredients Disclosure](https:\\\\ingredients.jti.com) microsite\\n- [https://humanrights.jti.com/](https:\\\\humanrights.jti.com)\\n- **Social media community management**\\n- Community management of our social media corporate channels (LinkedIn, Twitter, Instagram, Facebook, Glassdoor)  \\n**5. Technical requirements**  \\n**Infrastructure and platform security**  \\n**Highlights of required infrastructure and platform security include:**  \\n- Geographically disparate data centers in Amazon Web Services or Azure provide full 24/7 security and redundancy in the case of incidents\\n- Platforms should be distributed over multiple data centers to protect against geographic or regional failures, operating in a live-live setup across multiple centers providing high capacity and resilience\\n- Auto-scaling allows capacity to be added on demand\\n- Host Intrusion Detection System (HIDS) and Intrusion Prevention System (IPS) prevent DoS (denial of service), DDoS (distributed denial of service layer 3/4/7) and block attack patterns\\n- Elastic load balancing, operating at application protocol level\\n- Backup policy for servers and databases (daily backup with 14-day retention as a standard)\\n- Enterprise-grade antivirus and antispam protection\\n- Information Security Management System – ISO/IEC 27001:2013\\n- Quality Management System – ISO/IEC 9001:2015\\n- Service Organization Control (SOC) Reports 1, 2 and 3 through Amazon Web Service or Azure\\n- Accreditation towards ‘Bureau Veritas Scheme for Personal Data Protection against the GDPR’  \\n**Application Security**  \\n- Web Application Firewall natively integrated with technology stack\\n- 256-bit SSL certificate for data in transit, with TLS 1.2 using 2048-bit public key\\n- HTTPS for all Private Platform\\n- SHA512 salted encryption to protect passwords\\n- Encrypted databases implemented\\n- Full audit log of all activity – application logs and server logs\\n- Multi-factor login process for optimal security and convenience\\n- Strong password policy  \\n**6.**  \\n**Websites displaying the content in an engaging manner** (text, pics, video, social)  \\n[https://exposure.co/](https:\\\\exposure.co)  \\n[https://www.exposure.co/publications](https:\\\\www.exposure.co\\\\publications)  \\n[https://stories.tennesseetitans.com/the-new-touchdown-king](https:\\\\stories.tennesseetitans.com\\\\the-new-touchdown-king)  \\n[https://www.pmi.com/japan-becoming-a-smoke-free-country](https:\\\\www.pmi.com\\\\japan-becoming-a-smoke-free-country)')]"
      ]
     },
     "execution_count": 60,
     "metadata": {},
     "output_type": "execute_result"
    }
   ],
   "source": [
    "headers_to_split_on = [\n",
    "    (\"#\", \"Header 1\"),\n",
    "    (\"##\", \"Header 2\"),\n",
    "    (\"###\", \"Header 3\"),\n",
    "]\n",
    "\n",
    "markdown_splitter = MarkdownHeaderTextSplitter(headers_to_split_on)\n",
    "md_header_splits = markdown_splitter.split_text(content)\n",
    "md_header_splits"
   ]
  },
  {
   "cell_type": "code",
   "execution_count": 24,
   "id": "59e1d1dc",
   "metadata": {},
   "outputs": [
    {
     "name": "stdout",
     "output_type": "stream",
     "text": [
      "Do not submit generic marketing materials, broadly descriptive attachments, or other general literature.  \n",
      "Indicative timetables for evaluation and award of this RFP are as follows:  \n",
      "| EVENT                                                | DEADLINE   |\n",
      "|------------------------------------------------------|------------|\n",
      "| Distribution of RFP                                  |            |\n",
      "| Intent to participate email                          |            |\n",
      "| Submission of clarification  questions by email only |            |\n",
      "| Distribution of answers to  clarification questions  |            |\n",
      "| Receipt of RFP responses                             |            |\n",
      "| Submission of samples /  Presentations (if required) |            |\n",
      "| Selection decision                                   |            |\n",
      "| Estimated start date  (subject to contract)          |            |  \n",
      "Presentations will be taking place at our location office. You will be given a 2-hour time slot in which you must allow at least 30 minutes for a Q&amp;A session. JTI will have secured attendees and meeting rooms for the dates listed above. Time slots will be allocated in advance of the presentation date.  \n",
      "Page 5 of 13  \n",
      "Commented [JTI4]: Update highlighted dates details  \n",
      "Commented [JTI5]: Input dates for deadlines – remove events not required  \n",
      "Commented [JTI6]: Update location and time allowances\n"
     ]
    }
   ],
   "source": [
    "print(md_header_splits[7].page_content)"
   ]
  },
  {
   "cell_type": "code",
   "execution_count": null,
   "id": "96690bcc",
   "metadata": {},
   "outputs": [],
   "source": []
  },
  {
   "cell_type": "code",
   "execution_count": null,
   "id": "a27931a4",
   "metadata": {},
   "outputs": [],
   "source": []
  },
  {
   "cell_type": "code",
   "execution_count": null,
   "id": "2f67cfd2",
   "metadata": {},
   "outputs": [],
   "source": []
  },
  {
   "cell_type": "code",
   "execution_count": null,
   "id": "74fcea80",
   "metadata": {},
   "outputs": [],
   "source": []
  },
  {
   "cell_type": "code",
   "execution_count": null,
   "id": "f07378b3",
   "metadata": {},
   "outputs": [],
   "source": []
  },
  {
   "cell_type": "code",
   "execution_count": null,
   "id": "fa47bacc",
   "metadata": {},
   "outputs": [],
   "source": []
  },
  {
   "cell_type": "code",
   "execution_count": null,
   "id": "9c19b6a7",
   "metadata": {},
   "outputs": [],
   "source": [
    "from prompts.questions_for_sections import intro"
   ]
  },
  {
   "cell_type": "code",
   "execution_count": 4,
   "id": "2d31336d",
   "metadata": {},
   "outputs": [
    {
     "data": {
      "text/plain": [
       "'Create an Introduction section for the RFP document, giving a brief overview on JTI (Japan Tobacco International).'"
      ]
     },
     "execution_count": 4,
     "metadata": {},
     "output_type": "execute_result"
    }
   ],
   "source": [
    "intro.format(section=\"Introduction\")"
   ]
  },
  {
   "cell_type": "code",
   "execution_count": 2,
   "id": "8eccd39a",
   "metadata": {},
   "outputs": [
    {
     "name": "stderr",
     "output_type": "stream",
     "text": [
      "c:\\Users\\prerit.d.jain\\OneDrive - Accenture\\JTI\\python_codes\\rfx-chatbot-demo\\.venv\\Lib\\site-packages\\tqdm\\auto.py:21: TqdmWarning: IProgress not found. Please update jupyter and ipywidgets. See https://ipywidgets.readthedocs.io/en/stable/user_install.html\n",
      "  from .autonotebook import tqdm as notebook_tqdm\n"
     ]
    }
   ],
   "source": [
    "from langchain_core.prompts import ChatPromptTemplate\n",
    "from langchain_core.output_parsers import StrOutputParser\n",
    "from prompts.classification_prompt import classification_prompt\n",
    "from agents.classification_agent import classify_rfx"
   ]
  },
  {
   "cell_type": "code",
   "execution_count": 3,
   "id": "04dccb7e",
   "metadata": {},
   "outputs": [],
   "source": [
    "import fitz\n",
    "from llm_calling import llm_calling\n",
    "from langchain_core.documents import Document\n",
    "from data_preprocessing import data_preprocessing\n",
    "import os"
   ]
  },
  {
   "cell_type": "code",
   "execution_count": 4,
   "id": "481e8a33",
   "metadata": {},
   "outputs": [],
   "source": [
    "def file_names(directory):\n",
    "    files=[]\n",
    "    for file in os.listdir(directory):\n",
    "        if file.endswith(\".pdf\"):\n",
    "            files.append(os.path.join(directory, file))\n",
    "    return files"
   ]
  },
  {
   "cell_type": "code",
   "execution_count": 5,
   "id": "325935b7",
   "metadata": {},
   "outputs": [],
   "source": [
    "def langchain_doc_creation(file_path):\n",
    "    doc=[]\n",
    "    for f in file_path:\n",
    "        dp = data_preprocessing(file_path=f)\n",
    "        doc += dp.load_data()\n",
    "    return doc"
   ]
  },
  {
   "cell_type": "code",
   "execution_count": 6,
   "id": "2e3fdfb4",
   "metadata": {},
   "outputs": [],
   "source": [
    "directory = \"./User_File\"\n",
    "file_path = file_names(directory)\n",
    "doc_input = langchain_doc_creation(file_path)"
   ]
  },
  {
   "cell_type": "code",
   "execution_count": 7,
   "id": "969201f8",
   "metadata": {},
   "outputs": [],
   "source": [
    "doc_txt=''\n",
    "for d in doc_input:\n",
    "    doc_txt+= d.page_content\n",
    "    doc_txt+= \"\\n\\n\""
   ]
  },
  {
   "cell_type": "code",
   "execution_count": 8,
   "id": "2a9573a2",
   "metadata": {},
   "outputs": [],
   "source": [
    "system_prompt = classification_prompt"
   ]
  },
  {
   "cell_type": "code",
   "execution_count": null,
   "id": "4523f989",
   "metadata": {},
   "outputs": [],
   "source": [
    "rfx_type = classify_rfx(text=doc_txt,model_name=\"qwen2.5:7b\").classify_rfx_solve()"
   ]
  },
  {
   "cell_type": "code",
   "execution_count": 9,
   "id": "ec263277",
   "metadata": {},
   "outputs": [
    {
     "data": {
      "text/plain": [
       "{'rfx_type': 'RFP'}"
      ]
     },
     "execution_count": 9,
     "metadata": {},
     "output_type": "execute_result"
    }
   ],
   "source": [
    "rfx_type"
   ]
  },
  {
   "cell_type": "code",
   "execution_count": 18,
   "id": "ba812168",
   "metadata": {},
   "outputs": [],
   "source": [
    "from creating_retriever import universal_retrieval,user_retriever\n",
    "from langchain_qdrant import QdrantVectorStore\n",
    "from llm_calling import llm_calling\n",
    "from pathlib import Path\n",
    "from langgraph.types import Command, interrupt"
   ]
  },
  {
   "cell_type": "code",
   "execution_count": 2,
   "id": "cee9e2d4",
   "metadata": {},
   "outputs": [
    {
     "name": "stdout",
     "output_type": "stream",
     "text": [
      "DB Exists\n"
     ]
    }
   ],
   "source": [
    "type_of_retrieval = \"dense\" #@param [\"dense\", \"sparse\", \"hybrid\"]\n",
    "collection_name = 'SOW-_RFP_Digital_Landscape-v2'\n",
    "path = f\"\"\"./tmp/langchain_qdrant_user_{type_of_retrieval}\"\"\"\n",
    "my_file = Path(path+f\"\"\"/collection/{collection_name}/storage.sqlite\"\"\")\n",
    "\n",
    "embeddings = llm_calling(embedding_model=\"llama3.2:latest\").call_embed_model()\n",
    "\n",
    "if my_file.is_file():\n",
    "    print(\"DB Exists\")\n",
    "    retriever_user = universal_retrieval(collection_name=collection_name,embeddings=embeddings,path=path).load_existing_vdb_collection()"
   ]
  },
  {
   "cell_type": "code",
   "execution_count": 3,
   "id": "04fe442d",
   "metadata": {},
   "outputs": [
    {
     "name": "stdout",
     "output_type": "stream",
     "text": [
      "DB Exists\n"
     ]
    }
   ],
   "source": [
    "type_of_retrieval = \"dense\" #@param [\"dense\", \"sparse\", \"hybrid\"]\n",
    "collection_name = f\"\"\"jti_rfp_{type_of_retrieval}\"\"\"\n",
    "path = f\"\"\"./tmp/langchain_qdrant_{type_of_retrieval}\"\"\"\n",
    "my_file = Path(path+f\"\"\"/collection/{collection_name}/storage.sqlite\"\"\")\n",
    "#directory = \"./Input_Files\"\n",
    "\n",
    "if my_file.is_file():\n",
    "    print(\"DB Exists\")\n",
    "    retriever_input = universal_retrieval(collection_name=collection_name,embeddings=embeddings,path=path).load_existing_vdb_collection()"
   ]
  },
  {
   "cell_type": "code",
   "execution_count": 4,
   "id": "044d1a02",
   "metadata": {},
   "outputs": [],
   "source": [
    "from agents.brief_intake_agent import brief_intake\n",
    "from pprint import pprint"
   ]
  },
  {
   "cell_type": "code",
   "execution_count": 5,
   "id": "1b28dc8b",
   "metadata": {},
   "outputs": [],
   "source": [
    "app = brief_intake(un_retriever=retriever_input,us_retriever=retriever_user\n",
    "                   ,model_name=\"qwen2.5:7b\").run_brief_intake()"
   ]
  },
  {
   "cell_type": "code",
   "execution_count": 6,
   "id": "b04aa1f1",
   "metadata": {},
   "outputs": [
    {
     "name": "stdout",
     "output_type": "stream",
     "text": [
      "---TRANSFORM QUERY---\n",
      "---ROUTE QUESTION---\n",
      "---ROUTE QUESTION TO UNIVERSAL VECTORSTORE---\n",
      "\"Node 'transform_query':\"\n",
      "---RETRIEVE UNIVERSAL---\n",
      "\"Node 'retrieve_universal':\"\n",
      "---CHECK DOCUMENT RELEVANCE TO QUESTION---\n",
      "---GRADE: DOCUMENT RELEVANT---\n",
      "---GRADE: DOCUMENT NOT RELEVANT---\n",
      "---GRADE: DOCUMENT NOT RELEVANT---\n",
      "---ASSESS GRADED DOCUMENTS---\n",
      "---DECISION: GENERATE---\n",
      "\"Node 'grade_documents':\"\n",
      "---GENERATE---\n",
      "\"Node 'generate':\"\n",
      "('To create a brief introduction section for the RFP document that provides an '\n",
      " 'overview of Japan Tobacco International (JTI), you can use the following '\n",
      " 'template:\\n'\n",
      " '\\n'\n",
      " '---\\n'\n",
      " '\\n'\n",
      " '**Introduction**\\n'\n",
      " '\\n'\n",
      " 'Japan Tobacco International (JTI) is a leading international tobacco and '\n",
      " 'vaping company headquartered in Geneva, Switzerland. Our goal is to become '\n",
      " 'the most successful and responsible tobacco company in the world. For more '\n",
      " 'detailed information about JTI globally, please refer to Appendix 1 of this '\n",
      " 'document. To learn more about our local market presence, visit our website.\\n'\n",
      " '\\n'\n",
      " '---\\n'\n",
      " '\\n'\n",
      " \"This introduction provides a concise overview of JTI's mission and global \"\n",
      " 'presence while directing readers to additional resources for more detailed '\n",
      " 'information.')\n"
     ]
    }
   ],
   "source": [
    "# Run\n",
    "inputs = {\n",
    "    \"question\": \"Create an Intoduction section for the RFP document, giving a bried overview on JTI (Japan Tobacco International).\"\n",
    "}\n",
    "thread = {\"configurable\": {\"thread_id\": \"1\"}}\n",
    "for output in app.stream(inputs,thread):\n",
    "    for key, value in output.items():\n",
    "        # Node\n",
    "        #print(\"prerit\")\n",
    "        pprint(f\"Node '{key}':\")\n",
    "        # Optional: print full state at each node\n",
    "        # pprint.pprint(value[\"keys\"], indent=2, width=80, depth=None)\n",
    "    #pprint(\"\\n---\\n\")\n",
    "\n",
    "# Final generation\n",
    "pprint(value[\"generation\"])"
   ]
  },
  {
   "cell_type": "code",
   "execution_count": 8,
   "id": "b77ca051",
   "metadata": {},
   "outputs": [],
   "source": [
    "gen = value[\"generation\"]"
   ]
  },
  {
   "cell_type": "code",
   "execution_count": 11,
   "id": "6b6d9982",
   "metadata": {},
   "outputs": [
    {
     "data": {
      "text/plain": [
       "'**Introduction**\\n\\nJapan Tobacco International (JTI) is a leading international tobacco and vaping company headquartered in Geneva, Switzerland. Our goal is to become the most successful and responsible tobacco company in the world. For more detailed information about JTI globally, please refer to Appendix 1 of this document. To learn more about our local market presence, visit our website.'"
      ]
     },
     "execution_count": 11,
     "metadata": {},
     "output_type": "execute_result"
    }
   ],
   "source": [
    "gen.split(\"\\n\\n---\\n\\n\")[1]"
   ]
  },
  {
   "cell_type": "code",
   "execution_count": 17,
   "id": "ba50fd20",
   "metadata": {},
   "outputs": [
    {
     "data": {
      "text/plain": [
       "'Please provide RELEVANT documents supporting the How can we extract key evaluation metrics from the uploaded document to create a comprehensive Evaluation Criteria section for this RFP? question:'"
      ]
     },
     "execution_count": 17,
     "metadata": {},
     "output_type": "execute_result"
    }
   ],
   "source": [
    "value[0].value"
   ]
  },
  {
   "cell_type": "code",
   "execution_count": 20,
   "id": "c86aa7bb",
   "metadata": {},
   "outputs": [
    {
     "name": "stdout",
     "output_type": "stream",
     "text": [
      "---TRANSFORM QUERY---\n",
      "---ROUTE QUESTION---\n",
      "---ROUTE QUESTION TO USER VECTORSTORE---\n",
      "\"Node 'transform_query':\"\n",
      "'\\n---\\n'\n",
      "---RETRIEVE USER---\n",
      "\"Node 'retrieve_user':\"\n",
      "'\\n---\\n'\n",
      "---CHECK DOCUMENT RELEVANCE TO QUESTION---\n",
      "---GRADE: DOCUMENT NOT RELEVANT---\n",
      "---GRADE: DOCUMENT NOT RELEVANT---\n",
      "---GRADE: DOCUMENT NOT RELEVANT---\n",
      "---ASSESS GRADED DOCUMENTS---\n",
      "---DECISION: ALL DOCUMENTS ARE NOT RELEVANT TO QUESTION, TRANSFORM QUERY---\n",
      "\"Node 'grade_documents':\"\n",
      "'\\n---\\n'\n",
      "---NEED HUMAN INPUT---\n",
      "Question: How can we extract key evaluation metrics from the uploaded document to create a comprehensive Evaluation Criteria section for this RFP?\n",
      "\"Node '__interrupt__':\"\n",
      "'\\n---\\n'\n"
     ]
    }
   ],
   "source": [
    "# Run\n",
    "inputs = {\n",
    "    \"question\": \"From the document uploaded, create an Evaluation Criteria section which will point down all the evaluation metrics for this RFP.\"\n",
    "}\n",
    "thread = {\"configurable\": {\"thread_id\": \"3\"}}\n",
    "for output in app.stream(inputs,thread, stream_mode=\"updates\"):\n",
    "    for key, value in output.items():\n",
    "        # Node\n",
    "        pprint(f\"Node '{key}':\")\n",
    "    pprint(\"\\n---\\n\")\n",
    "\n",
    "# Final generation\n",
    "#pprint(value[\"generation\"])"
   ]
  },
  {
   "cell_type": "code",
   "execution_count": 23,
   "id": "d49ddba9",
   "metadata": {},
   "outputs": [
    {
     "data": {
      "text/plain": [
       "True"
      ]
     },
     "execution_count": 23,
     "metadata": {},
     "output_type": "execute_result"
    }
   ],
   "source": [
    "key=='__interrupt__'"
   ]
  },
  {
   "cell_type": "code",
   "execution_count": 21,
   "id": "c499315f",
   "metadata": {},
   "outputs": [],
   "source": [
    "additional_txt = \"\"\"Evaluation Criteria: JTI will evaluate the submissions and presentations based on, but not limited to the following selection criteria:\n",
    "1. Bidder's capabilities and ability to service JTI and affiliates.\n",
    "2. Scope of services and delivery standards.\n",
    "3. Bidder's references and reputation.\n",
    "4. Bidder's value-added services.\n",
    "5. Such other factors as may be described elsewhere in this RFP.\n",
    "6. Cost – demonstrated value proposition.\n",
    "7. Sustainability – Demonstrating strong evidence that the Supplier’s sustainability commitments will support JTI Supplier Standards and strengthen JT Group Tobacco Business sustainability strategy.\n",
    "8. Technical Solutions and Services to be compliant with JTI’s Robustness.\n",
    "\"\"\""
   ]
  },
  {
   "cell_type": "code",
   "execution_count": 24,
   "id": "90ab6881",
   "metadata": {},
   "outputs": [
    {
     "name": "stdout",
     "output_type": "stream",
     "text": [
      "---NEED HUMAN INPUT---\n",
      "Question: How can we extract key evaluation metrics from the uploaded document to create a comprehensive Evaluation Criteria section for this RFP?\n",
      "\"Node 'human_interrupt':\"\n",
      "'\\n---\\n'\n",
      "---GENERATE---\n",
      "\"Node 'generate':\"\n",
      "'\\n---\\n'\n",
      "('Based on the provided context, you can extract the following key evaluation '\n",
      " 'metrics for creating a comprehensive Evaluation Criteria section for this '\n",
      " 'RFP:\\n'\n",
      " '\\n'\n",
      " \"1. **Bidder's Capabilities and Ability to Service JTI and Affiliates**\\n\"\n",
      " '2. **Scope of Services and Delivery Standards**\\n'\n",
      " \"3. **Bidder's References and Reputation**\\n\"\n",
      " \"4. **Bidder's Value-Added Services**\\n\"\n",
      " '5. **Cost – Demonstrated Value Proposition**\\n'\n",
      " '6. **Sustainability** - This includes demonstrating strong evidence that the '\n",
      " 'Supplier’s sustainability commitments will support JTI Supplier Standards '\n",
      " 'and strengthen JT Group Tobacco Business sustainability strategy.\\n'\n",
      " '7. **Technical Solutions and Services to be Compliant with JTI’s '\n",
      " 'Robustness**\\n'\n",
      " '\\n'\n",
      " 'These metrics cover a broad range of factors that can help in evaluating the '\n",
      " 'submissions comprehensively.')\n"
     ]
    }
   ],
   "source": [
    "if key == '__interrupt__':\n",
    "\n",
    "    for output in app.stream(Command(resume=additional_txt),thread, stream_mode=\"updates\"):\n",
    "        for key, value in output.items():\n",
    "            # Node\n",
    "            pprint(f\"Node '{key}':\")\n",
    "            # Optional: print full state at each node\n",
    "            # pprint.pprint(value[\"keys\"], indent=2, width=80, depth=None)\n",
    "        pprint(\"\\n---\\n\")\n",
    "\n",
    "    pprint(value[\"generation\"])"
   ]
  },
  {
   "cell_type": "code",
   "execution_count": 30,
   "id": "490735e9",
   "metadata": {},
   "outputs": [
    {
     "data": {
      "text/plain": [
       "['Based on the provided context, you can extract the following key evaluation metrics for creating a comprehensive Evaluation Criteria section for this RFP:',\n",
       " '',\n",
       " \"1. **Bidder's Capabilities and Ability to Service JTI and Affiliates**\",\n",
       " '2. **Scope of Services and Delivery Standards**',\n",
       " \"3. **Bidder's References and Reputation**\",\n",
       " \"4. **Bidder's Value-Added Services**\",\n",
       " '5. **Cost – Demonstrated Value Proposition**',\n",
       " '6. **Sustainability** - This includes demonstrating strong evidence that the Supplier’s sustainability commitments will support JTI Supplier Standards and strengthen JT Group Tobacco Business sustainability strategy.',\n",
       " '7. **Technical Solutions and Services to be Compliant with JTI’s Robustness**',\n",
       " '',\n",
       " 'These metrics cover a broad range of factors that can help in evaluating the submissions comprehensively.']"
      ]
     },
     "execution_count": 30,
     "metadata": {},
     "output_type": "execute_result"
    }
   ],
   "source": [
    "value['generation'].split(\"\\n\")"
   ]
  },
  {
   "cell_type": "code",
   "execution_count": 1,
   "id": "3d213e5e",
   "metadata": {},
   "outputs": [],
   "source": [
    "import json\n",
    "from docx import Document\n",
    "from docx.oxml import OxmlElement\n",
    "from docx.oxml.ns import qn\n",
    "from docx.shared import Pt\n",
    "from docx.enum.text import WD_ALIGN_PARAGRAPH"
   ]
  },
  {
   "cell_type": "code",
   "execution_count": 2,
   "id": "6a115e5f",
   "metadata": {},
   "outputs": [],
   "source": [
    "TOC = {\n",
    "    \"A. INTRODUCTION\": [\"A.1 JTI\", \"A.2 Our Engagement\"],\n",
    "    \"B. PURPOSE OF THE RFP\": [\"B.1 Responses\", \"B.2 Schedule\", \"B.3 Queries\", \"B.4 Evaluation Criteria\"],\n",
    "    \"C. CONTEXT\": [\"C.1 Project Scope and Objective\", \"C.2 JTI Requirements\", \"C.3 Proposal evaluation criteria\"],\n",
    "    \"D. RESPONSE\": [\"D.1 Executive Summary\", \"D.2 Additional proposal details\"],\n",
    "    \"E. APPENDICES\": []\n",
    "}"
   ]
  },
  {
   "cell_type": "code",
   "execution_count": 3,
   "id": "5acec481",
   "metadata": {},
   "outputs": [],
   "source": [
    "def add_heading(doc, text, level):\n",
    "    p = doc.add_heading(text, level=level)\n",
    "    p.alignment = WD_ALIGN_PARAGRAPH.LEFT\n",
    "\n",
    "def add_paragraph(doc, text):\n",
    "    p = doc.add_paragraph(text)\n",
    "    p.style.font.size = Pt(11)\n",
    "    return p\n",
    "\n",
    "def insert_toc(paragraph):\n",
    "    \"\"\"Insert a field code for TOC that Word will convert into a clickable TOC\"\"\"\n",
    "    fldChar1 = OxmlElement('w:fldChar')\n",
    "    fldChar1.set(qn('w:fldCharType'), 'begin')\n",
    "    instrText = OxmlElement('w:instrText')\n",
    "    instrText.set(qn('xml:space'), 'preserve')\n",
    "    instrText.text = 'TOC \\\\o \"1-3\" \\\\h \\\\z \\\\u'\n",
    "    fldChar2 = OxmlElement('w:fldChar')\n",
    "    fldChar2.set(qn('w:fldCharType'), 'separate')\n",
    "    fldChar3 = OxmlElement('w:fldChar')\n",
    "    fldChar3.set(qn('w:fldCharType'), 'end')\n",
    "    r = paragraph.add_run()\n",
    "    r._r.append(fldChar1)\n",
    "    r._r.append(instrText)\n",
    "    r._r.append(fldChar2)\n",
    "    r._r.append(fldChar3)\n",
    "\n",
    "def build_doc_from_json(data_json, output_path=\"drafts/Generated_Document.docx\"):\n",
    "    doc = Document()\n",
    "    doc.add_heading(\"Generated Proposal\", level=0)\n",
    "    \n",
    "    # Insert TOC Placeholder\n",
    "    toc_paragraph = doc.add_paragraph()\n",
    "    insert_toc(toc_paragraph)\n",
    "    doc.add_page_break()\n",
    "    \n",
    "    for section_title, subsections in TOC.items():\n",
    "        section_key = section_title.split(\".\")[0]\n",
    "        add_heading(doc, section_title, level=1)\n",
    "        if subsections:\n",
    "            for subsection in subsections:\n",
    "                subsection_key = subsection.split()[0]\n",
    "                heading_text = subsection\n",
    "                content = data_json.get(section_key, {}).get(subsection_key, \"(No content provided)\")\n",
    "                add_heading(doc, heading_text, level=2)\n",
    "                add_paragraph(doc, content)\n",
    "        else:\n",
    "            content = data_json.get(section_key, \"(No content provided)\")\n",
    "            add_paragraph(doc, content)\n",
    "    \n",
    "    doc.save(output_path)\n",
    "    print(f\"Document saved as {output_path}\")\n",
    "    print(\"Open the document in Word and press F9 to update the TOC!\")\n",
    "    \n",
    "    return output_path"
   ]
  },
  {
   "cell_type": "code",
   "execution_count": 4,
   "id": "d1de5e53",
   "metadata": {},
   "outputs": [
    {
     "name": "stdout",
     "output_type": "stream",
     "text": [
      "Document saved as drafts/Generated_Document.docx\n",
      "Open the document in Word and press F9 to update the TOC!\n"
     ]
    },
    {
     "data": {
      "text/plain": [
       "'drafts/Generated_Document.docx'"
      ]
     },
     "execution_count": 4,
     "metadata": {},
     "output_type": "execute_result"
    }
   ],
   "source": [
    "build_doc_from_json(data_json=TOC)"
   ]
  },
  {
   "cell_type": "code",
   "execution_count": null,
   "id": "fd7c502d",
   "metadata": {},
   "outputs": [],
   "source": []
  }
 ],
 "metadata": {
  "kernelspec": {
   "display_name": ".venv",
   "language": "python",
   "name": "python3"
  },
  "language_info": {
   "codemirror_mode": {
    "name": "ipython",
    "version": 3
   },
   "file_extension": ".py",
   "mimetype": "text/x-python",
   "name": "python",
   "nbconvert_exporter": "python",
   "pygments_lexer": "ipython3",
   "version": "3.12.4"
  }
 },
 "nbformat": 4,
 "nbformat_minor": 5
}
