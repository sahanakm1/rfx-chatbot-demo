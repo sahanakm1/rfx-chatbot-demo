{
 "cells": [
  {
   "cell_type": "code",
   "execution_count": 2,
   "id": "8eccd39a",
   "metadata": {},
   "outputs": [
    {
     "name": "stderr",
     "output_type": "stream",
     "text": [
      "c:\\Users\\prerit.d.jain\\OneDrive - Accenture\\JTI\\python_codes\\rfx-chatbot-demo\\.venv\\Lib\\site-packages\\tqdm\\auto.py:21: TqdmWarning: IProgress not found. Please update jupyter and ipywidgets. See https://ipywidgets.readthedocs.io/en/stable/user_install.html\n",
      "  from .autonotebook import tqdm as notebook_tqdm\n"
     ]
    }
   ],
   "source": [
    "from langchain_core.prompts import ChatPromptTemplate\n",
    "from langchain_core.output_parsers import StrOutputParser\n",
    "from prompts.classification_prompt import classification_prompt\n",
    "from agents.classification_agent import classify_rfx"
   ]
  },
  {
   "cell_type": "code",
   "execution_count": 3,
   "id": "04dccb7e",
   "metadata": {},
   "outputs": [],
   "source": [
    "import fitz\n",
    "from llm_calling import llm_calling\n",
    "from langchain_core.documents import Document\n",
    "from data_preprocessing import data_preprocessing\n",
    "import os"
   ]
  },
  {
   "cell_type": "code",
   "execution_count": 4,
   "id": "481e8a33",
   "metadata": {},
   "outputs": [],
   "source": [
    "def file_names(directory):\n",
    "    files=[]\n",
    "    for file in os.listdir(directory):\n",
    "        if file.endswith(\".pdf\"):\n",
    "            files.append(os.path.join(directory, file))\n",
    "    return files"
   ]
  },
  {
   "cell_type": "code",
   "execution_count": 5,
   "id": "325935b7",
   "metadata": {},
   "outputs": [],
   "source": [
    "def langchain_doc_creation(file_path):\n",
    "    doc=[]\n",
    "    for f in file_path:\n",
    "        dp = data_preprocessing(file_path=f)\n",
    "        doc += dp.load_data()\n",
    "    return doc"
   ]
  },
  {
   "cell_type": "code",
   "execution_count": 6,
   "id": "2e3fdfb4",
   "metadata": {},
   "outputs": [],
   "source": [
    "directory = \"./User_File\"\n",
    "file_path = file_names(directory)\n",
    "doc_input = langchain_doc_creation(file_path)"
   ]
  },
  {
   "cell_type": "code",
   "execution_count": 7,
   "id": "969201f8",
   "metadata": {},
   "outputs": [],
   "source": [
    "doc_txt=''\n",
    "for d in doc_input:\n",
    "    doc_txt+= d.page_content\n",
    "    doc_txt+= \"\\n\\n\""
   ]
  },
  {
   "cell_type": "code",
   "execution_count": 8,
   "id": "2a9573a2",
   "metadata": {},
   "outputs": [],
   "source": [
    "system_prompt = classification_prompt"
   ]
  },
  {
   "cell_type": "code",
   "execution_count": null,
   "id": "4523f989",
   "metadata": {},
   "outputs": [],
   "source": [
    "rfx_type = classify_rfx(text=doc_txt,model_name=\"qwen2.5:7b\").classify_rfx_solve()"
   ]
  },
  {
   "cell_type": "code",
   "execution_count": 9,
   "id": "ec263277",
   "metadata": {},
   "outputs": [
    {
     "data": {
      "text/plain": [
       "{'rfx_type': 'RFP'}"
      ]
     },
     "execution_count": 9,
     "metadata": {},
     "output_type": "execute_result"
    }
   ],
   "source": [
    "rfx_type"
   ]
  },
  {
   "cell_type": "code",
   "execution_count": 18,
   "id": "ba812168",
   "metadata": {},
   "outputs": [],
   "source": [
    "from creating_retriever import universal_retrieval,user_retriever\n",
    "from langchain_qdrant import QdrantVectorStore\n",
    "from llm_calling import llm_calling\n",
    "from pathlib import Path\n",
    "from langgraph.types import Command, interrupt"
   ]
  },
  {
   "cell_type": "code",
   "execution_count": 2,
   "id": "cee9e2d4",
   "metadata": {},
   "outputs": [
    {
     "name": "stdout",
     "output_type": "stream",
     "text": [
      "DB Exists\n"
     ]
    }
   ],
   "source": [
    "type_of_retrieval = \"dense\" #@param [\"dense\", \"sparse\", \"hybrid\"]\n",
    "collection_name = 'SOW-_RFP_Digital_Landscape-v2'\n",
    "path = f\"\"\"./tmp/langchain_qdrant_user_{type_of_retrieval}\"\"\"\n",
    "my_file = Path(path+f\"\"\"/collection/{collection_name}/storage.sqlite\"\"\")\n",
    "\n",
    "embeddings = llm_calling(embedding_model=\"llama3.2:latest\").call_embed_model()\n",
    "\n",
    "if my_file.is_file():\n",
    "    print(\"DB Exists\")\n",
    "    retriever_user = universal_retrieval(collection_name=collection_name,embeddings=embeddings,path=path).load_existing_vdb_collection()"
   ]
  },
  {
   "cell_type": "code",
   "execution_count": 3,
   "id": "04fe442d",
   "metadata": {},
   "outputs": [
    {
     "name": "stdout",
     "output_type": "stream",
     "text": [
      "DB Exists\n"
     ]
    }
   ],
   "source": [
    "type_of_retrieval = \"dense\" #@param [\"dense\", \"sparse\", \"hybrid\"]\n",
    "collection_name = f\"\"\"jti_rfp_{type_of_retrieval}\"\"\"\n",
    "path = f\"\"\"./tmp/langchain_qdrant_{type_of_retrieval}\"\"\"\n",
    "my_file = Path(path+f\"\"\"/collection/{collection_name}/storage.sqlite\"\"\")\n",
    "#directory = \"./Input_Files\"\n",
    "\n",
    "if my_file.is_file():\n",
    "    print(\"DB Exists\")\n",
    "    retriever_input = universal_retrieval(collection_name=collection_name,embeddings=embeddings,path=path).load_existing_vdb_collection()"
   ]
  },
  {
   "cell_type": "code",
   "execution_count": 4,
   "id": "044d1a02",
   "metadata": {},
   "outputs": [],
   "source": [
    "from agents.brief_intake_agent import brief_intake\n",
    "from pprint import pprint"
   ]
  },
  {
   "cell_type": "code",
   "execution_count": 5,
   "id": "1b28dc8b",
   "metadata": {},
   "outputs": [],
   "source": [
    "app = brief_intake(un_retriever=retriever_input,us_retriever=retriever_user\n",
    "                   ,model_name=\"qwen2.5:7b\").run_brief_intake()"
   ]
  },
  {
   "cell_type": "code",
   "execution_count": 6,
   "id": "b04aa1f1",
   "metadata": {},
   "outputs": [
    {
     "name": "stdout",
     "output_type": "stream",
     "text": [
      "---TRANSFORM QUERY---\n",
      "---ROUTE QUESTION---\n",
      "---ROUTE QUESTION TO UNIVERSAL VECTORSTORE---\n",
      "\"Node 'transform_query':\"\n",
      "---RETRIEVE UNIVERSAL---\n",
      "\"Node 'retrieve_universal':\"\n",
      "---CHECK DOCUMENT RELEVANCE TO QUESTION---\n",
      "---GRADE: DOCUMENT RELEVANT---\n",
      "---GRADE: DOCUMENT NOT RELEVANT---\n",
      "---GRADE: DOCUMENT NOT RELEVANT---\n",
      "---ASSESS GRADED DOCUMENTS---\n",
      "---DECISION: GENERATE---\n",
      "\"Node 'grade_documents':\"\n",
      "---GENERATE---\n",
      "\"Node 'generate':\"\n",
      "('To create a brief introduction section for the RFP document that provides an '\n",
      " 'overview of Japan Tobacco International (JTI), you can use the following '\n",
      " 'template:\\n'\n",
      " '\\n'\n",
      " '---\\n'\n",
      " '\\n'\n",
      " '**Introduction**\\n'\n",
      " '\\n'\n",
      " 'Japan Tobacco International (JTI) is a leading international tobacco and '\n",
      " 'vaping company headquartered in Geneva, Switzerland. Our goal is to become '\n",
      " 'the most successful and responsible tobacco company in the world. For more '\n",
      " 'detailed information about JTI globally, please refer to Appendix 1 of this '\n",
      " 'document. To learn more about our local market presence, visit our website.\\n'\n",
      " '\\n'\n",
      " '---\\n'\n",
      " '\\n'\n",
      " \"This introduction provides a concise overview of JTI's mission and global \"\n",
      " 'presence while directing readers to additional resources for more detailed '\n",
      " 'information.')\n"
     ]
    }
   ],
   "source": [
    "# Run\n",
    "inputs = {\n",
    "    \"question\": \"Create an Intoduction section for the RFP document, giving a bried overview on JTI (Japan Tobacco International).\"\n",
    "}\n",
    "thread = {\"configurable\": {\"thread_id\": \"1\"}}\n",
    "for output in app.stream(inputs,thread):\n",
    "    for key, value in output.items():\n",
    "        # Node\n",
    "        #print(\"prerit\")\n",
    "        pprint(f\"Node '{key}':\")\n",
    "        # Optional: print full state at each node\n",
    "        # pprint.pprint(value[\"keys\"], indent=2, width=80, depth=None)\n",
    "    #pprint(\"\\n---\\n\")\n",
    "\n",
    "# Final generation\n",
    "pprint(value[\"generation\"])"
   ]
  },
  {
   "cell_type": "code",
   "execution_count": 8,
   "id": "b77ca051",
   "metadata": {},
   "outputs": [],
   "source": [
    "gen = value[\"generation\"]"
   ]
  },
  {
   "cell_type": "code",
   "execution_count": 11,
   "id": "6b6d9982",
   "metadata": {},
   "outputs": [
    {
     "data": {
      "text/plain": [
       "'**Introduction**\\n\\nJapan Tobacco International (JTI) is a leading international tobacco and vaping company headquartered in Geneva, Switzerland. Our goal is to become the most successful and responsible tobacco company in the world. For more detailed information about JTI globally, please refer to Appendix 1 of this document. To learn more about our local market presence, visit our website.'"
      ]
     },
     "execution_count": 11,
     "metadata": {},
     "output_type": "execute_result"
    }
   ],
   "source": [
    "gen.split(\"\\n\\n---\\n\\n\")[1]"
   ]
  },
  {
   "cell_type": "code",
   "execution_count": 17,
   "id": "ba50fd20",
   "metadata": {},
   "outputs": [
    {
     "data": {
      "text/plain": [
       "'Please provide RELEVANT documents supporting the How can we extract key evaluation metrics from the uploaded document to create a comprehensive Evaluation Criteria section for this RFP? question:'"
      ]
     },
     "execution_count": 17,
     "metadata": {},
     "output_type": "execute_result"
    }
   ],
   "source": [
    "value[0].value"
   ]
  },
  {
   "cell_type": "code",
   "execution_count": 20,
   "id": "c86aa7bb",
   "metadata": {},
   "outputs": [
    {
     "name": "stdout",
     "output_type": "stream",
     "text": [
      "---TRANSFORM QUERY---\n",
      "---ROUTE QUESTION---\n",
      "---ROUTE QUESTION TO USER VECTORSTORE---\n",
      "\"Node 'transform_query':\"\n",
      "'\\n---\\n'\n",
      "---RETRIEVE USER---\n",
      "\"Node 'retrieve_user':\"\n",
      "'\\n---\\n'\n",
      "---CHECK DOCUMENT RELEVANCE TO QUESTION---\n",
      "---GRADE: DOCUMENT NOT RELEVANT---\n",
      "---GRADE: DOCUMENT NOT RELEVANT---\n",
      "---GRADE: DOCUMENT NOT RELEVANT---\n",
      "---ASSESS GRADED DOCUMENTS---\n",
      "---DECISION: ALL DOCUMENTS ARE NOT RELEVANT TO QUESTION, TRANSFORM QUERY---\n",
      "\"Node 'grade_documents':\"\n",
      "'\\n---\\n'\n",
      "---NEED HUMAN INPUT---\n",
      "Question: How can we extract key evaluation metrics from the uploaded document to create a comprehensive Evaluation Criteria section for this RFP?\n",
      "\"Node '__interrupt__':\"\n",
      "'\\n---\\n'\n"
     ]
    }
   ],
   "source": [
    "# Run\n",
    "inputs = {\n",
    "    \"question\": \"From the document uploaded, create an Evaluation Criteria section which will point down all the evaluation metrics for this RFP.\"\n",
    "}\n",
    "thread = {\"configurable\": {\"thread_id\": \"3\"}}\n",
    "for output in app.stream(inputs,thread, stream_mode=\"updates\"):\n",
    "    for key, value in output.items():\n",
    "        # Node\n",
    "        pprint(f\"Node '{key}':\")\n",
    "    pprint(\"\\n---\\n\")\n",
    "\n",
    "# Final generation\n",
    "#pprint(value[\"generation\"])"
   ]
  },
  {
   "cell_type": "code",
   "execution_count": 23,
   "id": "d49ddba9",
   "metadata": {},
   "outputs": [
    {
     "data": {
      "text/plain": [
       "True"
      ]
     },
     "execution_count": 23,
     "metadata": {},
     "output_type": "execute_result"
    }
   ],
   "source": [
    "key=='__interrupt__'"
   ]
  },
  {
   "cell_type": "code",
   "execution_count": 21,
   "id": "c499315f",
   "metadata": {},
   "outputs": [],
   "source": [
    "additional_txt = \"\"\"Evaluation Criteria: JTI will evaluate the submissions and presentations based on, but not limited to the following selection criteria:\n",
    "1. Bidder's capabilities and ability to service JTI and affiliates.\n",
    "2. Scope of services and delivery standards.\n",
    "3. Bidder's references and reputation.\n",
    "4. Bidder's value-added services.\n",
    "5. Such other factors as may be described elsewhere in this RFP.\n",
    "6. Cost – demonstrated value proposition.\n",
    "7. Sustainability – Demonstrating strong evidence that the Supplier’s sustainability commitments will support JTI Supplier Standards and strengthen JT Group Tobacco Business sustainability strategy.\n",
    "8. Technical Solutions and Services to be compliant with JTI’s Robustness.\n",
    "\"\"\""
   ]
  },
  {
   "cell_type": "code",
   "execution_count": 24,
   "id": "90ab6881",
   "metadata": {},
   "outputs": [
    {
     "name": "stdout",
     "output_type": "stream",
     "text": [
      "---NEED HUMAN INPUT---\n",
      "Question: How can we extract key evaluation metrics from the uploaded document to create a comprehensive Evaluation Criteria section for this RFP?\n",
      "\"Node 'human_interrupt':\"\n",
      "'\\n---\\n'\n",
      "---GENERATE---\n",
      "\"Node 'generate':\"\n",
      "'\\n---\\n'\n",
      "('Based on the provided context, you can extract the following key evaluation '\n",
      " 'metrics for creating a comprehensive Evaluation Criteria section for this '\n",
      " 'RFP:\\n'\n",
      " '\\n'\n",
      " \"1. **Bidder's Capabilities and Ability to Service JTI and Affiliates**\\n\"\n",
      " '2. **Scope of Services and Delivery Standards**\\n'\n",
      " \"3. **Bidder's References and Reputation**\\n\"\n",
      " \"4. **Bidder's Value-Added Services**\\n\"\n",
      " '5. **Cost – Demonstrated Value Proposition**\\n'\n",
      " '6. **Sustainability** - This includes demonstrating strong evidence that the '\n",
      " 'Supplier’s sustainability commitments will support JTI Supplier Standards '\n",
      " 'and strengthen JT Group Tobacco Business sustainability strategy.\\n'\n",
      " '7. **Technical Solutions and Services to be Compliant with JTI’s '\n",
      " 'Robustness**\\n'\n",
      " '\\n'\n",
      " 'These metrics cover a broad range of factors that can help in evaluating the '\n",
      " 'submissions comprehensively.')\n"
     ]
    }
   ],
   "source": [
    "if key == '__interrupt__':\n",
    "\n",
    "    for output in app.stream(Command(resume=additional_txt),thread, stream_mode=\"updates\"):\n",
    "        for key, value in output.items():\n",
    "            # Node\n",
    "            pprint(f\"Node '{key}':\")\n",
    "            # Optional: print full state at each node\n",
    "            # pprint.pprint(value[\"keys\"], indent=2, width=80, depth=None)\n",
    "        pprint(\"\\n---\\n\")\n",
    "\n",
    "    pprint(value[\"generation\"])"
   ]
  }
 ],
 "metadata": {
  "kernelspec": {
   "display_name": ".venv",
   "language": "python",
   "name": "python3"
  },
  "language_info": {
   "codemirror_mode": {
    "name": "ipython",
    "version": 3
   },
   "file_extension": ".py",
   "mimetype": "text/x-python",
   "name": "python",
   "nbconvert_exporter": "python",
   "pygments_lexer": "ipython3",
   "version": "3.12.4"
  }
 },
 "nbformat": 4,
 "nbformat_minor": 5
}
