{
 "cells": [
  {
   "cell_type": "code",
   "execution_count": 1,
   "id": "8eccd39a",
   "metadata": {},
   "outputs": [
    {
     "name": "stderr",
     "output_type": "stream",
     "text": [
      "c:\\Users\\prerit.d.jain\\OneDrive - Accenture\\JTI\\python_codes\\rfx-chatbot-demo\\.venv\\Lib\\site-packages\\tqdm\\auto.py:21: TqdmWarning: IProgress not found. Please update jupyter and ipywidgets. See https://ipywidgets.readthedocs.io/en/stable/user_install.html\n",
      "  from .autonotebook import tqdm as notebook_tqdm\n"
     ]
    }
   ],
   "source": [
    "from langchain_core.prompts import ChatPromptTemplate\n",
    "from langchain_core.output_parsers import StrOutputParser\n",
    "from prompts.classification_prompt import classification_prompt\n",
    "from agents.classification_agent import classify_rfx"
   ]
  },
  {
   "cell_type": "code",
   "execution_count": 2,
   "id": "04dccb7e",
   "metadata": {},
   "outputs": [],
   "source": [
    "import fitz\n",
    "from llm_calling import llm_calling\n",
    "from langchain_core.documents import Document\n",
    "from data_preprocessing import data_preprocessing\n",
    "import os"
   ]
  },
  {
   "cell_type": "code",
   "execution_count": 3,
   "id": "481e8a33",
   "metadata": {},
   "outputs": [],
   "source": [
    "def file_names(directory):\n",
    "    files=[]\n",
    "    for file in os.listdir(directory):\n",
    "        if file.endswith(\".pdf\"):\n",
    "            files.append(os.path.join(directory, file))\n",
    "    return files"
   ]
  },
  {
   "cell_type": "code",
   "execution_count": 4,
   "id": "325935b7",
   "metadata": {},
   "outputs": [],
   "source": [
    "def langchain_doc_creation(file_path):\n",
    "    doc=[]\n",
    "    for f in file_path:\n",
    "        dp = data_preprocessing(file_path=f)\n",
    "        doc += dp.load_data()\n",
    "    return doc"
   ]
  },
  {
   "cell_type": "code",
   "execution_count": 5,
   "id": "2e3fdfb4",
   "metadata": {},
   "outputs": [],
   "source": [
    "directory = \"./User_File\"\n",
    "file_path = file_names(directory)\n",
    "doc_input = langchain_doc_creation(file_path)"
   ]
  },
  {
   "cell_type": "code",
   "execution_count": 6,
   "id": "969201f8",
   "metadata": {},
   "outputs": [],
   "source": [
    "doc_txt=''\n",
    "for d in doc_input:\n",
    "    doc_txt+= d.page_content\n",
    "    doc_txt+= \"\\n\\n\""
   ]
  },
  {
   "cell_type": "code",
   "execution_count": 7,
   "id": "2a9573a2",
   "metadata": {},
   "outputs": [],
   "source": [
    "system_prompt = classification_prompt"
   ]
  },
  {
   "cell_type": "code",
   "execution_count": 8,
   "id": "4523f989",
   "metadata": {},
   "outputs": [
    {
     "name": "stdout",
     "output_type": "stream",
     "text": [
      "[TIMING] RAG classification took 452.55s\n"
     ]
    }
   ],
   "source": [
    "rfx_type = classify_rfx(text=doc_txt,model_name=\"qwen2.5:7b\").classify_rfx_solve()"
   ]
  },
  {
   "cell_type": "code",
   "execution_count": 9,
   "id": "ec263277",
   "metadata": {},
   "outputs": [
    {
     "data": {
      "text/plain": [
       "{'rfx_type': 'RFP'}"
      ]
     },
     "execution_count": 9,
     "metadata": {},
     "output_type": "execute_result"
    }
   ],
   "source": [
    "rfx_type"
   ]
  },
  {
   "cell_type": "code",
   "execution_count": null,
   "id": "421676ac",
   "metadata": {},
   "outputs": [],
   "source": []
  },
  {
   "cell_type": "code",
   "execution_count": 12,
   "id": "ba812168",
   "metadata": {},
   "outputs": [],
   "source": [
    "from creating_retriever import universal_retrieval,user_retriever\n",
    "from langchain_qdrant import QdrantVectorStore\n",
    "from llm_calling import llm_calling\n",
    "from pathlib import Path"
   ]
  },
  {
   "cell_type": "code",
   "execution_count": null,
   "id": "fc00715f",
   "metadata": {},
   "outputs": [],
   "source": [
    "embeddings = llm_calling(embedding_model=\"llama3.2:latest\").call_embed_model()\n",
    "\n",
    "## User Retrieval\n",
    "type_of_retrieval = \"dense\" #@param [\"dense\", \"sparse\", \"hybrid\"]\n",
    "collection_name = f\"\"\"jti_rfp_{type_of_retrieval}_user\"\"\"\n",
    "path = f\"\"\"./tmp/langchain_qdrant_user_{type_of_retrieval}\"\"\"\n",
    "my_file = Path(path+f\"\"\"/collection/{collection_name}/storage.sqlite\"\"\")\n",
    "directory = \"./User_File\"\n",
    "#directory = \"./Input_Files\"\n",
    "\n",
    "if my_file.is_file():\n",
    "    print(\"DB Exists\")\n",
    "    retriever_input = universal_retrieval(collection_name=collection_name,embeddings=embeddings,path=path).load_existing_vdb_collection()\n",
    "else:\n",
    "    print(\"DB does not exist\")"
   ]
  }
 ],
 "metadata": {
  "kernelspec": {
   "display_name": ".venv",
   "language": "python",
   "name": "python3"
  },
  "language_info": {
   "codemirror_mode": {
    "name": "ipython",
    "version": 3
   },
   "file_extension": ".py",
   "mimetype": "text/x-python",
   "name": "python",
   "nbconvert_exporter": "python",
   "pygments_lexer": "ipython3",
   "version": "3.12.4"
  }
 },
 "nbformat": 4,
 "nbformat_minor": 5
}
